{
 "cells": [
  {
   "cell_type": "code",
   "execution_count": 4,
   "id": "987ecb10-8ce9-4341-8573-81531da4ebd6",
   "metadata": {},
   "outputs": [
    {
     "name": "stdin",
     "output_type": "stream",
     "text": [
      "Type a number:  10\n",
      "Make a guess:  3\n"
     ]
    },
    {
     "name": "stdout",
     "output_type": "stream",
     "text": [
      "you were below the number\n"
     ]
    },
    {
     "name": "stdin",
     "output_type": "stream",
     "text": [
      "Make a guess:  1\n"
     ]
    },
    {
     "name": "stdout",
     "output_type": "stream",
     "text": [
      "you were below the number\n"
     ]
    },
    {
     "name": "stdin",
     "output_type": "stream",
     "text": [
      "Make a guess:  0\n"
     ]
    },
    {
     "name": "stdout",
     "output_type": "stream",
     "text": [
      "you were below the number\n"
     ]
    },
    {
     "name": "stdin",
     "output_type": "stream",
     "text": [
      "Make a guess:  9\n"
     ]
    },
    {
     "name": "stdout",
     "output_type": "stream",
     "text": [
      "you were below the number\n"
     ]
    },
    {
     "name": "stdin",
     "output_type": "stream",
     "text": [
      "Make a guess:  8\n"
     ]
    },
    {
     "name": "stdout",
     "output_type": "stream",
     "text": [
      "you were below the number\n"
     ]
    },
    {
     "name": "stdin",
     "output_type": "stream",
     "text": [
      "Make a guess:  7\n"
     ]
    },
    {
     "name": "stdout",
     "output_type": "stream",
     "text": [
      "you were below the number\n"
     ]
    },
    {
     "name": "stdin",
     "output_type": "stream",
     "text": [
      "Make a guess:  10\n"
     ]
    },
    {
     "name": "stdout",
     "output_type": "stream",
     "text": [
      "you got it\n",
      "you got it 7 guesses\n"
     ]
    }
   ],
   "source": [
    "import random\n",
    "top_of_range = input(\"Type a number: \")\n",
    "\n",
    "if top_of_range.isdigit():\n",
    "    top_of_range= int(top_of_range)\n",
    "    if top_of_range<=0:\n",
    "        print(\"please type number larger than 0 next time\")\n",
    "        quit()\n",
    "\n",
    "else:\n",
    "    print(\"Type a number next time\")\n",
    "    quit()\n",
    "\n",
    "random_number = random.randint(0,top_of_range)\n",
    "guesses=0\n",
    "\n",
    "while True:\n",
    "    guesses +=1\n",
    "    user_guess= input(\"Make a guess: \")\n",
    "    if user_guess.isdigit():\n",
    "        user_guess=int(user_guess)\n",
    "    else:\n",
    "        print(\"Type a number next time\")\n",
    "        continue\n",
    "\n",
    "    if user_guess== random_number:\n",
    "        print(\"you got it\")\n",
    "        break\n",
    "    elif user_guess> random_number:\n",
    "        print(\"you were above the number\")\n",
    "    else:\n",
    "        print(\"you were below the number\")\n",
    "\n",
    "print(\"you got it\",guesses,\"guesses\")\n",
    "        \n"
   ]
  },
  {
   "cell_type": "code",
   "execution_count": null,
   "id": "289ea2fc-1021-4097-8469-4159192be67b",
   "metadata": {},
   "outputs": [],
   "source": []
  }
 ],
 "metadata": {
  "kernelspec": {
   "display_name": "Python 3 (ipykernel)",
   "language": "python",
   "name": "python3"
  },
  "language_info": {
   "codemirror_mode": {
    "name": "ipython",
    "version": 3
   },
   "file_extension": ".py",
   "mimetype": "text/x-python",
   "name": "python",
   "nbconvert_exporter": "python",
   "pygments_lexer": "ipython3",
   "version": "3.11.7"
  }
 },
 "nbformat": 4,
 "nbformat_minor": 5
}
